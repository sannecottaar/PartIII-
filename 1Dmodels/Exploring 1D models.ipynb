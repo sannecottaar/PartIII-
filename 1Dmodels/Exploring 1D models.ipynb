{
 "cells": [
  {
   "cell_type": "code",
   "execution_count": null,
   "metadata": {},
   "outputs": [],
   "source": [
    "%matplotlib notebook\n",
    "import sys\n",
    "if '../burnman_v1.0.1' not in sys.path:\n",
    "    sys.path.insert(0,'../burnman_v1.0.1')\n",
    "import burnman\n",
    "import matplotlib.pyplot as plt\n",
    "import numpy as np\n"
   ]
  },
  {
   "cell_type": "markdown",
   "metadata": {},
   "source": [
    "## 1D models \n",
    "\n",
    "We will look at two different 1D models produced for the Earth: \n",
    " - PREM -preliminary reference Earth model (PREM, Dziewonski & Anderson 1981): constrained by normal modes, P and S wave travel times, mass and moment of inertia\n",
    " - ak135 (Kennett et al. 1995): range of body wave travel times\n",
    "\n",
    "\n",
    "The script below plots the shear wave velocities for these models. \n",
    "1. Note the disagreement of the models across the upper mantle and mantle transition zone. PREM has a discontinuity at 220 km, which is since confirmed not to be a global feature. What sort of seismic waves can constrain the discontinuities in the upper mantle? Why are these seismic phases not included in these 1D inversions? \n",
    "2. The models also don't agree on the shear wave velocity in the inner core. What do you think constrains this velocity? \n",
    "3. Plot the equivalent profiles for P wave velocity, and describe any disagreements between the models observed here.  \n",
    "\n"
   ]
  },
  {
   "cell_type": "code",
   "execution_count": null,
   "metadata": {},
   "outputs": [],
   "source": [
    "#import models\n",
    "prem = burnman.seismic.PREM()\n",
    "ak135 = burnman.seismic.AK135()\n",
    "\n",
    "# plot models\n",
    "models = [prem, ak135]\n",
    "colours = ['r','g']\n",
    "labels = ['prem', 'ak135']\n",
    "for i,model in enumerate(models):\n",
    "    depths =model.internal_depth_list(mindepth=-1.e3,maxdepth=6372.1e3)\n",
    "    plt.plot(depths/1.e3,model.v_s(depths)/1.e3, colours[i], label=labels[i])\n",
    "    plt.xlabel('depth (km)')\n",
    "    plt.ylabel('Vs (km/s)')\n",
    "    plt.legend()\n",
    "    "
   ]
  },
  {
   "cell_type": "markdown",
   "metadata": {},
   "source": [
    "### Bullen parameter\n",
    "Models of the seismic structure of the Earth’s mantle give us a Bullen’s parameter. This seismically derived parameter can tell us about the level of compositional and thermal inhomogeneity with depth, and was first published by Bullen in 1963 in a paper titled 'An Index of Degree of Chemical Inhomogeneity in the Earth'. \n",
    "\n",
    "Bullen’s parameter $η_B$ is defined as  (eq. 1)\n",
    "\\begin{align}\n",
    "η_B=\\frac{\\Phi}{ρg}  \\frac{d\\rho}{dz}\n",
    "\\end{align}\n",
    "Or as (eq. 2)\n",
    "$$η_B==\\frac{d\\kappa}{dP}-\\frac{1}{g}  \\frac{d\\Phi}{dz}\n",
    "$$ \n",
    "where $g$ is the gravitational acceleration in [$m/s^2$], $\\kappa$ is the bulk modulus in [Pa], $\\rho$ is density, $z$ is depth, $P$ is pressure and $\\Phi$ is the seismic parameter, given by (eq. 3)\n",
    "$$\\Phi = V_P^2 - \\frac{4}{3}V_S^2 = \\frac{\\kappa}{\\rho}$$\n",
    "\n",
    "\n",
    "The parameters $\\frac{d\\kappa}{dP}$, $\\frac{1}{g}$ and $\\frac{d\\Phi}{dz}$ can all be computed from the PREM model, and thus $\\eta_B$ can be determined. The result is plotted below. The Bullen parameter $\\eta_B$ can then used to determine different regions in the Earth: \n",
    "\t$\\eta_B=1$, this is the case where material is homogeneous and adiabatic\n",
    "\t$\\eta_B>1$, when material is more compressible than in homogeneous adiabatic conditions, which mainly happens when there are phase transitions. \n",
    "\t$\\eta_B<1$, when material is less compressible than in homogeneous adiabatic conditions, which can happen in thermal boundary layers.\n",
    "\n",
    "4. Check, using the above equations, that Bullen’s parameter $η_B$ is dimensionless.  Remember $[Pa]  =10^{-5} [bar]=[ N/m^2 ]=[kg/(ms^2 )]$\n",
    "\n",
    "5. For a homogeneous medium under hydrostatic pressure (i.e. $\\eta_B$=1) $dP=rgdz$. Use this relationship and the definition for the bulk modulus $\\kappa = \\rho\\frac{dP}{d\\rho}$ to show that equation 1 is true. \n",
    "\n",
    "6. Use the relationship $\\frac{d\\kappa}{dz}=\\frac{d(\\rho\\phi)}{dz} = \\rho\\frac{d\\phi}{dz}+\\phi\\frac{d\\rho}{dz}$ to show that the 2nd definition for $\\eta_B$ also holds. \n",
    "\n",
    "7. Use the definitions for the seismic velocities to show eq. 3 for the seismic parameter is true.  \n",
    "\n",
    "\n",
    "8. To compute Bullen's parameter, we will use the PREM model, which has density constrained by normal modes, mass and moment of inertia. Implement eq.1 or 2 below to compute the Bullen parameter. Note that any computation of gradients becomes unstable around the defined discontinuities. A simple (hack) solution for this is to filter out extreme values of the Bullen parameter (e.g. values below -1 and above 4).  \n",
    "\n",
    "9.  Why does the bullen parameter become unstable near the centre of the planet? \n",
    "\n",
    "10.\tFor the upper mantle identify (roughly) where Bullen's parameter is above or below 1. Explain why these regions are not following the behavior of a homogeneous, adiabatic composition under compression.  \n",
    "\n",
    "\n",
    "\n",
    "11.\tThe PREM model has been made to follow an adiabatic temperature profile in the mantle below 1000 km, and in the outer and inner core, fitting Bullen's parameter close to 1. For what regions might this assumption be incorrect?\n"
   ]
  },
  {
   "cell_type": "code",
   "execution_count": null,
   "metadata": {},
   "outputs": [],
   "source": [
    "plt.figure()\n",
    "\n",
    "# load values from PREM\n",
    "density = prem.density(depths)\n",
    "pressure = prem.pressure(depths)\n",
    "gravity= prem.gravity(depths)\n",
    "vp =  prem.v_p(depths)\n",
    "vs =  prem.v_s(depths)\n",
    "\n",
    "# implement Bullen parameter\n",
    "\n",
    "#plot Bullen parameter\n"
   ]
  },
  {
   "cell_type": "code",
   "execution_count": null,
   "metadata": {},
   "outputs": [],
   "source": []
  }
 ],
 "metadata": {
  "kernelspec": {
   "display_name": "Python 3 (ipykernel)",
   "language": "python",
   "name": "python3"
  },
  "language_info": {
   "codemirror_mode": {
    "name": "ipython",
    "version": 3
   },
   "file_extension": ".py",
   "mimetype": "text/x-python",
   "name": "python",
   "nbconvert_exporter": "python",
   "pygments_lexer": "ipython3",
   "version": "3.8.12"
  }
 },
 "nbformat": 4,
 "nbformat_minor": 2
}
