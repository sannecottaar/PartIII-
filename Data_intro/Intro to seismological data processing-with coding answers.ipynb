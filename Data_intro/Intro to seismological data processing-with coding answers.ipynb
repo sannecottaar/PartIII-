{
 "cells": [
  {
   "cell_type": "markdown",
   "id": "13fc4afe",
   "metadata": {},
   "source": [
    "## Practical data processing\n",
    "\n",
    "In this practical we will go through the basic steps of downloading and processing seismograms. \n",
    "\n",
    "\n",
    "First import the required libraries. The main one used here is ObsPy, whith is a Python toolkit built specifically for seismological data. See www.obspy.org. \n"
   ]
  },
  {
   "cell_type": "code",
   "execution_count": null,
   "id": "c25fa8c4",
   "metadata": {},
   "outputs": [],
   "source": [
    "%matplotlib inline\n",
    "import obspy  # Python toolkit for common routines in seismology\n",
    "from obspy.clients.fdsn import Client\n",
    "from obspy import UTCDateTime # Converts strings of dates\n",
    "from obspy.taup import TauPyModel # Predicts travel times\n",
    "import numpy as np # General array seismology routines\n",
    "import matplotlib.pyplot as plt # Plotting routines\n",
    "import math"
   ]
  },
  {
   "cell_type": "markdown",
   "id": "1081250e",
   "metadata": {},
   "source": [
    "### 1. Download data\n",
    "\n",
    "Firstly we set up a client which connects us to the server of IRIS (Incorporated Research Institutions for Seismology, www.iris.edu). IRIS hosts seismological data collected around the globe, both from permanent and temporary seismic networks, as well as other geophysicsl data. \n"
   ]
  },
  {
   "cell_type": "code",
   "execution_count": null,
   "id": "a56dcbe3",
   "metadata": {},
   "outputs": [],
   "source": [
    "client = Client(\"IRIS\") # sets connection to IRIS database"
   ]
  },
  {
   "cell_type": "markdown",
   "id": "95a6ce35",
   "metadata": {},
   "source": [
    "Next, we set the details of the data we want to download. "
   ]
  },
  {
   "cell_type": "code",
   "execution_count": null,
   "id": "03deb352",
   "metadata": {},
   "outputs": [],
   "source": [
    "# event 1 = \"2018-12-20T17:01:55\", event 2=  \"2019-06-24T02:54\"\n",
    "eventtime= \"2018-12-20T17:01:55\"\n",
    "network=\"BK\"\n",
    "stationname=\"CMB\""
   ]
  },
  {
   "cell_type": "markdown",
   "id": "82e0b0e7",
   "metadata": {},
   "source": [
    "We use the client to obtain location and magnitude information on the event. This gets stored in an ObsPy defined [event class](https://docs.obspy.org/packages/autogen/obspy.core.event.event.Event.html). Unfortunately, IRIS does not provide us with focal mechanisms"
   ]
  },
  {
   "cell_type": "code",
   "execution_count": null,
   "id": "5fbcc96d",
   "metadata": {},
   "outputs": [],
   "source": [
    "# Obtain event information\n",
    "event = client.get_events(starttime=UTCDateTime(eventtime)-200, endtime=UTCDateTime(eventtime)+200, minmagnitude=6, catalog=\"NEIC PDE\")\n",
    "print(event)\n",
    "print('depth is', event[0].origins[0].depth/1.e3, ' km')\n",
    "event.plot()"
   ]
  },
  {
   "cell_type": "markdown",
   "id": "2bcf5c77",
   "metadata": {},
   "source": [
    "Next we download information for a specific station into a [station inventory object](https://docs.obspy.org/packages/autogen/obspy.core.inventory.station.Station.html)."
   ]
  },
  {
   "cell_type": "code",
   "execution_count": null,
   "id": "3432f4f7",
   "metadata": {},
   "outputs": [],
   "source": [
    "# Note that replacing network and stationname with \"*\" would provide all stations available at the time of the earthquake\n",
    "t = event[0].origins[0].time\n",
    "station = client.get_stations(network=network, station=stationname, channel='BH*', starttime=t-200, endtime=t+200, level='response')\n",
    "station.plot()"
   ]
  },
  {
   "cell_type": "markdown",
   "id": "542cb54a",
   "metadata": {},
   "source": [
    "Next we download the actual data into a [Stream format](https://docs.obspy.org/packages/autogen/obspy.core.stream.Stream.html). A Stream is a list of [Traces](https://docs.obspy.org/packages/autogen/obspy.core.trace.Trace.html#obspy.core.trace.Trace), which store continuous data as well as metadata. "
   ]
  },
  {
   "cell_type": "code",
   "execution_count": null,
   "id": "57a64e46",
   "metadata": {},
   "outputs": [],
   "source": [
    "# We downlaod the first 5000 seconds after the event time\n",
    "[sbef,saft] = [0,5000]\n",
    "seis = client.get_waveforms(network,stationname,\"*\", \"BH*\", t-sbef, t+saft, attach_response = True)\n",
    "print(seis)"
   ]
  },
  {
   "cell_type": "markdown",
   "id": "24cea6a0",
   "metadata": {},
   "source": [
    "### 2. Compute geometry\n",
    "\n",
    "Using the information from the earthquake and station, we can now compute the distance to the station, the azimuth (the angle at the earthquake between North and the direction to the station) and the backazimuth (the angle at the station between North and the direction to the earthquake). "
   ]
  },
  {
   "cell_type": "code",
   "execution_count": null,
   "id": "41f16130",
   "metadata": {},
   "outputs": [],
   "source": [
    "# Get distance, azimuth and backazimuth from event and station locations\n",
    "distm, azimuth, back_azimuth =  obspy.geodetics.base.gps2dist_azimuth(event[0].origins[0]['latitude'],\n",
    "                                                        event[0].origins[0]['longitude'],\n",
    "                                                          station[0][0].latitude,\n",
    "                                                          station[0][0].longitude)\n",
    "# Convert distnace from m to epicentral degrees\n",
    "distdg = distm/(6371.e3*np.pi/180.)\n",
    "\n",
    "#print results\n",
    "print('distance in epicentral degrees = ', np.round(distdg,1))\n",
    "print('azimuth from event to station = ', np.round(azimuth,1))\n",
    "print('backazimuth from station to event = ', np.round(back_azimuth,1))"
   ]
  },
  {
   "cell_type": "markdown",
   "id": "634637d7",
   "metadata": {},
   "source": [
    "### 3.  Remove instrument response\n",
    "\n",
    "Seismometers record their response to ground motions. This response is frequency and instrument dependent. Each instrument is calibrated and its response is stored. To use the date we need to 'deconvolve' the behaviour of the instrument from the seismogram. \n",
    "\n",
    "We first plot the instrument response. Which is given as a so-called [Bode plot](https://en.wikipedia.org/wiki/Bode_plot), showing the station sensitivity and phase shift as a function of frequency. We are looking at a broadband station, which is designed to be sensitive over a broad range of frequencies. "
   ]
  },
  {
   "cell_type": "code",
   "execution_count": null,
   "id": "4baba055",
   "metadata": {},
   "outputs": [],
   "source": [
    "station.plot_response(min_freq=0.001)"
   ]
  },
  {
   "cell_type": "markdown",
   "id": "9eecfdd7",
   "metadata": {},
   "source": [
    "The maximum frequency recorded is the Nyquist frequency, defined as \n",
    "$$ f_{Nyq}=\\frac{1}{2\\Delta T}$$\n",
    "where $\\Delta T$ is the sampling interval. \n",
    "\n",
    "a. For this station the sampling rate is 20Hz. What is the Nyquist frequency? Does this agree with the Bode plot? \n",
    "\n",
    "We won't worry about the technicalities of actually deconvolving the data. Below ObsPy does this for us. Note the change in the amplitudes before and after deconvolution. The y-axis is now in [m/s], instead of the station-specific unit [counts]. "
   ]
  },
  {
   "cell_type": "code",
   "execution_count": null,
   "id": "1156278c",
   "metadata": {},
   "outputs": [],
   "source": [
    "# remove instrument response\n",
    "\n",
    "pre_filt = [0.001, 0.005, 2, 5]\n",
    "seis.plot()\n",
    "seis_resp=seis.copy()\n",
    "seis_resp.remove_response(output='VEL', pre_filt=pre_filt)\n",
    "seis_resp.plot()\n"
   ]
  },
  {
   "cell_type": "markdown",
   "id": "a675226b",
   "metadata": {},
   "source": [
    "### 4. Rotate components\n",
    "\n",
    "<div>\n",
    "<img src=\"components.png\" width=\"300\"/>\n",
    "</div>\n",
    "\n",
    "###### Figure 1 Geometry of North/East and Radial/Transverse components and the definition of the backazimuth\n",
    "\n",
    "We rotate the horizontal components to the radial and transverse components. The radial component is defined as the direction of propogation for the direct waves, and the transverse component is orthogonal to that. This puts the P and SV energy on the radial and vertical, and the SH energy on the transverse component. \n",
    "\n",
    "The rotation is given by a rotation matrix as a function of angle, a, which is 180 degrees from the backazimuth: \n",
    "\n",
    "$$ \\begin{bmatrix}R\\\\T\\end{bmatrix} =  \\begin{bmatrix}cos(a)& sin(a)\\\\ -sin(a)&cos(a)\\end{bmatrix}\\begin{bmatrix}N\\\\E\\end{bmatrix} $$\n",
    "\n",
    "b. Use the north and east traces defined below to implement your own rotation code. Plot the end result on top of the radial and transverse computed by ObsPy to check. "
   ]
  },
  {
   "cell_type": "code",
   "execution_count": null,
   "id": "fdf690bc",
   "metadata": {},
   "outputs": [],
   "source": [
    "\n",
    "N = seis_resp.select(component='N')[0]\n",
    "E = seis_resp.select(component='E')[0]\n",
    "#Note, to access the data in a trace use N.data and E.data.\n",
    "\n",
    "\n",
    "#### Add your own code\n",
    "a_rad=back_azimuth*np.pi/180.+np.pi\n",
    "R = math.cos(a_rad)*N.data+math.sin(a_rad)*E.data\n",
    "T = -math.sin(a_rad)*N.data+math.cos(a_rad)*E.data\n",
    "####\n",
    "\n",
    "#Rotate components in osbpy\n",
    "seis_rot=seis_resp.copy()\n",
    "seis_rot.rotate('NE->RT', back_azimuth=back_azimuth)\n",
    "\n",
    "xmin=500 #seconds\n",
    "xmax=2000 #seconds\n",
    "plt.figure(figsize=(10,10))\n",
    "plt.subplot(5,1,1)\n",
    "plt.plot(seis_resp[0].times(), seis_resp[0].data)\n",
    "plt.title(seis_resp[0].stats['component'])\n",
    "plt.xlim((xmin,xmax))\n",
    "plt.subplot(5,1,2)\n",
    "plt.plot(seis_resp[1].times(), seis_resp[1].data)\n",
    "plt.title(seis_resp[1].stats['component'])\n",
    "plt.xlim((xmin,xmax))\n",
    "plt.subplot(5,1,3)\n",
    "plt.plot(seis_resp[2].times(), seis_resp[2].data)\n",
    "plt.title(seis_resp[2].stats['component'])\n",
    "plt.xlim((xmin,xmax))\n",
    "plt.subplot(5,1,4)\n",
    "plt.plot(seis_rot[0].times(), seis_rot[0].data)\n",
    "plt.plot(seis_rot[1].times(), T,'r')\n",
    "plt.title(seis_rot[0].stats['component'])\n",
    "plt.xlim((xmin,xmax))\n",
    "plt.subplot(5,1,5)\n",
    "plt.plot(seis_rot[1].times(), seis_rot[1].data)\n",
    "plt.plot(seis_rot[1].times(), R,'r')\n",
    "plt.title(seis_rot[1].stats['component'])\n",
    "plt.xlim((xmin,xmax))\n",
    "plt.tight_layout(pad=3.0)"
   ]
  },
  {
   "cell_type": "markdown",
   "id": "d67a1730",
   "metadata": {},
   "source": [
    "### 5. Filter data\n",
    "\n",
    "We can filter the data to emphasize different arrivals. \n",
    "\n",
    "c. Try the following filter bands: \n",
    "\n",
    "    - 0.001-0.02 Hz\n",
    "    - 0.02-0.1  Hz\n",
    "    - 0.125-0.2 Hz\n",
    "    - 0.5-2. Hz\n",
    "    \n",
    "    Which filter bands best emphasizes the P-wave, and S-wave, surface waves? Which filter band is the noisiest? "
   ]
  },
  {
   "cell_type": "code",
   "execution_count": null,
   "id": "5c58a49d",
   "metadata": {},
   "outputs": [],
   "source": [
    "\n",
    "seis_filt =seis_rot.copy()\n",
    "\n",
    "# set corner frequencies for filter\n",
    "freqmin=.05\n",
    "freqmax=.1\n",
    "\n",
    "seis_filt.filter(\"bandpass\", freqmin=freqmin, freqmax=freqmax, corners=2, zerophase=True)\n",
    "\n",
    "seis_filt.plot(type='relative')"
   ]
  },
  {
   "cell_type": "markdown",
   "id": "a60b2506",
   "metadata": {},
   "source": [
    "### 6.  Identify body waves\n",
    "\n",
    "In the script below, you can centre the seismogram on a single predicted body wave arrival. \n",
    "\n",
    "d. While optimising the filter and the window width, have look at the P and S waves. Which components to they dominantly arrive on and why? \n",
    "\n",
    "The ray parameter, $p$, in $[s/rad]$ is given by\n",
    "$$ p = \\frac{r \\sin{i}}{v}$$, \n",
    "where $r$ is the radius at any point along the ray in $[km/rad]$, $i$ is the incidence angle, and $v$ is the velocity in $[km/s]$. \n",
    "\n",
    "e. Use the values given for the ray parameter of the P and S wave and their incidence angles to compute the assumed $V_P$ and $V_S$ at the station. \n",
    "\n",
    "f. Also have a look at the core-reflected phases PcP and ScS. Why is PcP so much weaker than ScS? "
   ]
  },
  {
   "cell_type": "code",
   "execution_count": null,
   "id": "f3f1d4af",
   "metadata": {},
   "outputs": [],
   "source": [
    "#Identify phase\n",
    "phase = ['P']\n",
    "from obspy.taup import TauPyModel\n",
    "model = TauPyModel(model=\"iasp91\")\n",
    "arrival = model.get_travel_times(source_depth_in_km=event[0].origins[0]['depth']/1.e3,\n",
    "                                  distance_in_degree=distdg, phase_list = phase)\n",
    "print(phase[0], 'arrives at ', np.round(arrival[0].time,1), 'seconds, with a ray parameter of ', np.round(arrival[0].ray_param,1), 's/rad, and an incident angle of ', np.round(arrival[0].incident_angle,1), 'deg')\n",
    "\n",
    "\n",
    "t_left = 125\n",
    "t_right = 125\n",
    "\n",
    "plt.figure(figsize=(10,6))\n",
    "for i in range(len(seis_filt)):\n",
    "    plt.subplot(3,1,i+1)\n",
    "    mask = (seis_filt[i].times()>= arrival[0].time-t_left)& (seis_filt[i].times()<= arrival[0].time+t_right)\n",
    "    plt.plot(seis_filt[i].times()[mask], seis_filt[i].data[mask])\n",
    "    plt.title(seis_filt[i].stats['component'])\n",
    "plt.tight_layout(pad=3.0)\n",
    "\n",
    "    \n",
    "\n",
    "\n",
    "\n"
   ]
  },
  {
   "cell_type": "markdown",
   "id": "53ebb2ff",
   "metadata": {},
   "source": [
    "### 7. Deep, distant event\n",
    "\n",
    "Go through the processing for the event at \"2019-06-24T02:54\". \n",
    "\n",
    "g. What is its location, depth, and epicentral distance to the station?\n",
    "\n",
    "h. Note the value for the backazimuth. Why does rotation barely matter? \n",
    "\n",
    "i. Look at filtered full seismograms. Can you identify the surface waves? \n",
    "\n",
    "j. Look at the Pdiff and Sdiff waves. On which components can you identify the arrivals. \n",
    "\n",
    "k. Use the ray pameter predicted for Pdiff and Sdiff to find the assumed velocity for these waves at the core-mantle boundary. \n",
    "\n"
   ]
  },
  {
   "cell_type": "code",
   "execution_count": null,
   "id": "5593db81",
   "metadata": {},
   "outputs": [],
   "source": []
  },
  {
   "cell_type": "code",
   "execution_count": null,
   "id": "6c2b309f",
   "metadata": {},
   "outputs": [],
   "source": []
  }
 ],
 "metadata": {
  "kernelspec": {
   "display_name": "Python 3 (ipykernel)",
   "language": "python",
   "name": "python3"
  },
  "language_info": {
   "codemirror_mode": {
    "name": "ipython",
    "version": 3
   },
   "file_extension": ".py",
   "mimetype": "text/x-python",
   "name": "python",
   "nbconvert_exporter": "python",
   "pygments_lexer": "ipython3",
   "version": "3.8.12"
  }
 },
 "nbformat": 4,
 "nbformat_minor": 5
}
