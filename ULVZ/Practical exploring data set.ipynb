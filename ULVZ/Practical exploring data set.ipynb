{
 "cells": [
  {
   "cell_type": "markdown",
   "metadata": {},
   "source": [
    "# -----------------------------------------------------------------------------\n",
    "# EXPLORING SEISMOGRAMS\n",
    "\n",
    "This is a script that allows you to plot a range of data.  \n",
    "At the top there are a number of parameteres to change:\n",
    "- What compontents of data to plot\n",
    "- What frequencies to plot\n",
    "- What phase to center on\n",
    "- Which travel times to plot\n",
    "- Organizing seismograms as a function of distance or azimuth\n",
    "\n",
    "Next, it will allow you to look at the ray paths of the phase you are focusing on, and create a map of the event-station geometry. \n",
    "\n",
    "Code blocks can be run with shift-enter.\n",
    "NOTE: every time you change something, you need to re-run  that code-block, before rerunnig the last code block (which does the actual plotting)\n",
    "\n",
    "#### Start with exploring the plotting setup and then go to the exercises listed at the bottom. \n",
    "\n",
    "# -----------------------------------------------------------------------------\n",
    "# IMPORTS\n",
    "These blocks only need to be run once (if all goes well)\n",
    "## Importing libraries"
   ]
  },
  {
   "cell_type": "code",
   "execution_count": null,
   "metadata": {},
   "outputs": [],
   "source": [
    "%matplotlib notebook\n",
    "\n",
    "import obspy\n",
    "import obspy.taup\n",
    "from obspy import read\n",
    "from obspy import UTCDateTime\n",
    "from obspy.taup import TauPyModel\n",
    "import obspy.signal\n",
    "import matplotlib.pyplot as plt\n",
    "import matplotlib.colors as colors\n",
    "import matplotlib.cm as cm\n",
    "import numpy as np\n",
    "import sys\n",
    "\n",
    "import cartopy\n",
    "import cartopy.crs as ccrs\n",
    "\n",
    "import glob\n",
    "import time\n",
    "\n",
    "plt.rcParams.update({'font.size': 12})"
   ]
  },
  {
   "cell_type": "markdown",
   "metadata": {},
   "source": [
    "## Importing data\n",
    "The data set is for a March 21st 2010 event in Papua New Guinea, recorded across stations in the US. "
   ]
  },
  {
   "cell_type": "code",
   "execution_count": null,
   "metadata": {},
   "outputs": [],
   "source": [
    "seislist = glob.glob('Data/*')\n",
    "allseis = []\n",
    "for i in range(len(seislist)):\n",
    "    allseis.append(obspy.read(seislist[i],'PICKLE'))\n",
    "print(len(allseis), ' seismograms were loaded')\n",
    "\n",
    "model = TauPyModel(model='ak135') # Load 1D model for travel time and ray predictions\n"
   ]
  },
  {
   "cell_type": "markdown",
   "metadata": {},
   "source": [
    "# -----------------------------------------------------------------------------\n",
    "# PLOTTING WAVEFORMS\n"
   ]
  },
  {
   "cell_type": "markdown",
   "metadata": {},
   "source": [
    "## Phase to center plot on\n",
    "Choose a phase name to plot. One backup phase name can be be provided, if first phase doesn't exist at a specific distance, secondary phase will be tried, e.g. this way direct S which turn into S-diffracted waves with distance can be plot. <br>\n",
    "Phases follow taup naming conventions, see:  <br>\n",
    "https://docs.obspy.org/packages/obspy.taup.html <br>"
   ]
  },
  {
   "cell_type": "code",
   "execution_count": null,
   "metadata": {},
   "outputs": [],
   "source": [
    "center_phase = ['S', 'Sdiff']"
   ]
  },
  {
   "cell_type": "markdown",
   "metadata": {},
   "source": [
    "## Components and subplots to plot.\n",
    "\n",
    "\n",
    "Choose 'BHT' for transverse, 'BHR' for radial, or 'BHZ' for vertical. This sets the number of subplots, the components will be plotted side by side.  "
   ]
  },
  {
   "cell_type": "code",
   "execution_count": null,
   "metadata": {},
   "outputs": [],
   "source": [
    "components = ['BHR', 'BHT']"
   ]
  },
  {
   "cell_type": "markdown",
   "metadata": {},
   "source": [
    "## Predicted travel times to plot\n",
    "Phases follow taup naming conventions, see:  <br>\n",
    "https://docs.obspy.org/packages/obspy.taup.html <br>\n",
    "A number of phases are precomputed and stored with the data, others will slow down the script to compute on the fly"
   ]
  },
  {
   "cell_type": "code",
   "execution_count": null,
   "metadata": {},
   "outputs": [],
   "source": [
    "tt_phases = ['S', 'Sdiff', 'ScS']"
   ]
  },
  {
   "cell_type": "markdown",
   "metadata": {},
   "source": [
    "## Set frequency limits\n",
    "or 1/period  <br>\n",
    "Frequencies up to 0.5 Hz are included. <br>\n",
    "Note, the fmax is 1/17 Hz for the shakemovie synthetics. <br>"
   ]
  },
  {
   "cell_type": "code",
   "execution_count": null,
   "metadata": {},
   "outputs": [],
   "source": [
    "fmin = 1. / 30. #1/period\n",
    "fmax = 1. / 10. #1/period"
   ]
  },
  {
   "cell_type": "markdown",
   "metadata": {},
   "source": [
    "## Y-axis: Plot as function of distance or azimuth\n",
    "Chooose to plot with distance or azimuth <br>\n",
    "Choose 'dist' or 'az' <br>\n",
    "'round' sets if seismograms are plotted at values rounded to whole numbers (this generally makes the plot easier to look at). "
   ]
  },
  {
   "cell_type": "code",
   "execution_count": null,
   "metadata": {},
   "outputs": [],
   "source": [
    "yaxis = 'dist'\n",
    "round = True"
   ]
  },
  {
   "cell_type": "markdown",
   "metadata": {},
   "source": [
    "## Limits for azimuth, distance and time\n",
    "- Azimuth limits (data is included between 40 and 70 deg) <br>\n",
    "- Distance limits (data is included between 85 and 110 deg) <br>\n",
    "- Time limits (Window around center phase)"
   ]
  },
  {
   "cell_type": "code",
   "execution_count": null,
   "metadata": {},
   "outputs": [],
   "source": [
    "# in dg\n",
    "azmin = 40.\n",
    "azmax = 70.\n",
    "\n",
    "# epicentral distance in dg\n",
    "distmin = 85\n",
    "distmax = 110\n",
    "\n",
    "# in sec\n",
    "timemin = -80\n",
    "timemax = 120"
   ]
  },
  {
   "cell_type": "markdown",
   "metadata": {},
   "source": [
    "## Normalization factor\n",
    "factor to normalize all data by to improve plot <br>"
   ]
  },
  {
   "cell_type": "code",
   "execution_count": null,
   "metadata": {},
   "outputs": [],
   "source": [
    "fact = 1."
   ]
  },
  {
   "cell_type": "markdown",
   "metadata": {},
   "source": [
    "## Plotting data\n",
    "All the plotting happens after this, and in principle doesn't\n",
    "need to be changed... although you are welcome to play\n",
    "around/ improve/ break it..."
   ]
  },
  {
   "cell_type": "code",
   "execution_count": null,
   "metadata": {},
   "outputs": [],
   "source": [
    "\n",
    "# Colormap for travel times\n",
    "cNorm = colors.Normalize(vmin=0, vmax=len(tt_phases))\n",
    "tt_cmap = cm.ScalarMappable(norm=cNorm, cmap=plt.get_cmap('jet'))\n",
    "\n",
    "\n",
    "\n",
    "\n",
    "slon = []\n",
    "slat = []\n",
    "elon = []\n",
    "dists =[]\n",
    "axes = []\n",
    "\n",
    "\n",
    "\n",
    "fig = plt.figure(figsize = (10,6))\n",
    "\n",
    "\n",
    "\n",
    "for plotnum in range(len(components)):\n",
    "     axes.append(plt.subplot(1, len(components), 1+plotnum))   \n",
    "# Loop through data types\n",
    "for plotnum, comp in enumerate(components):\n",
    "        print('plotting ', comp, '...')\n",
    "\n",
    "        # Loop through seismic receivers\n",
    "        for s in allseis:\n",
    "            seis = s.copy()\n",
    "            stats = seis.select(channel='BHZ')[0].stats\n",
    "            if stats['az'] > azmin and stats['az'] < azmax:\n",
    "                if stats['dist'] > distmin and stats['dist'] < distmax:\n",
    "                    try:\n",
    "                        center_time = stats.traveltimes[center_phase[0]]\n",
    "                    except:\n",
    "                        arrs = model.get_travel_times(stats['evdp'],stats['dist'], phase_list = [center_phase[0]])\n",
    "                        center_time = arrs[0].time\n",
    "\n",
    "                    if len(center_phase) > 1:\n",
    "                \n",
    "                        if center_time is None:\n",
    "                            try:\n",
    "                                center_time = stats.traveltimes[center_phase[1]]\n",
    "                            except:\n",
    "                                arrs = model.get_travel_times(stats['evdp'],stats['dist'], phase_list = [center_phase[1]])\n",
    "                                center_time = arrs[0].time\n",
    "                    if center_time is None:\n",
    "                        continue\n",
    "        \n",
    "                    seis= seis.select(channel=comp)[0]\n",
    "                        \n",
    "                    seis.filter('highpass',freq=fmin,corners=2,zerophase=True)\n",
    "                    seis.filter('lowpass',freq=fmax,corners=2,zerophase=True)\n",
    "\n",
    "                    xplot = seis.times(\n",
    "                        reftime=UTCDateTime(\n",
    "                            stats['eventtime'])) - center_time\n",
    "                    win1 = np.argmin(np.abs(xplot - timemin))\n",
    "                    win2 = np.argmin(np.abs(xplot - timemax))\n",
    "                                                    \n",
    "                    if round:\n",
    "                        yloc = np.round(stats[yaxis])\n",
    "                    else:\n",
    "                        yloc = stats[yaxis]\n",
    "                    relnorm = np.max(np.abs(seis.data[win1:win2]))\n",
    "                    yplot = fact * seis.data / (relnorm) + yloc\n",
    "                    axes[plotnum].plot(xplot[win1:win2], yplot[win1:win2], 'k', linewidth=1)\n",
    "\n",
    "                \n",
    "                \n",
    "                    # Plot travel times\n",
    "                    for ph, phase in enumerate(tt_phases):\n",
    "                            if phase in stats.traveltimes:\n",
    "                                if stats.traveltimes[phase] is not None:\n",
    "                                    xtime = stats.traveltimes[phase] - center_time\n",
    "\n",
    "                                    for i in range(len(components)):\n",
    "                                        axes[i].plot([xtime, xtime], [yloc - 0.5,yloc + 0.5],\n",
    "                                             color=tt_cmap.to_rgba(ph), linewidth=2)\n",
    "                            else:\n",
    "                                arrs = model.get_travel_times(stats['evdp'],stats['dist'], phase_list = (phase,))\n",
    "                                if len(arrs)>0:\n",
    "                                    for arr in arrs:\n",
    "                                        xtime = arr.time - center_time\n",
    "                                        for i in range(len(components)):\n",
    "                                            axes[i].plot([xtime, xtime], [yloc - 0.5,yloc + 0.5],\n",
    "                                                 color=tt_cmap.to_rgba(ph), linewidth=2)\n",
    "                                       \n",
    "                    #Save locations to plot\n",
    "                    if elon == []:\n",
    "                        elon = stats['evlo']\n",
    "                        elat = stats['evla']\n",
    "                        edep = stats['evdp']\n",
    "                    slon.append(stats['stlo'])\n",
    "                    slat.append(stats['stla'])\n",
    "                    dists.append(stats['dist'])\n",
    "                        \n",
    "\n",
    "# plot some fake points to make an okay legend\n",
    "for ph, phase in enumerate(tt_phases):\n",
    "    plt.plot(0, 0, '.', color=tt_cmap.to_rgba(ph), label=phase)\n",
    "plt.legend(bbox_to_anchor=(0.92, 0.3))\n",
    "\n",
    "\n",
    "# prettify plots\n",
    "for i in range(len(components)):\n",
    "    axes[i].set_xlabel('time (s) w.r.t.' + center_phase[0])\n",
    "    if yaxis == 'dist':\n",
    "        if i ==0:\n",
    "            axes[i].set_ylabel('distance (dg)')\n",
    "        axes[i].set_ylim([distmin, distmax])\n",
    "        axes[i].set_title(str(azmin) + ' < azimuth < ' + str(azmax))\n",
    "    if yaxis == 'az':\n",
    "        if i ==0:\n",
    "            axes[i].set_ylabel('azimuth (dg)')\n",
    "        axes[i].set_ylim([azmin, azmax])\n",
    "        axes[i].set_title(str(distmin) + ' < distance < ' + str(distmax))\n",
    "    axes[i].set_xlim([timemin, timemax])\n",
    "    axes[i].grid()\n",
    "\n"
   ]
  },
  {
   "cell_type": "markdown",
   "metadata": {},
   "source": [
    "# -----------------------------------------------------------------------------\n",
    "# TRAVEL TIME AND RAYPATH TOOLS"
   ]
  },
  {
   "cell_type": "markdown",
   "metadata": {},
   "source": [
    "## Predicting common phase arrivals\n",
    "\n",
    "For a set distance, this predicts arrival times for common phases. "
   ]
  },
  {
   "cell_type": "code",
   "execution_count": null,
   "metadata": {},
   "outputs": [],
   "source": [
    "ref_dist = 90 #degrees\n",
    "depth_earthquake=edep# depth of earthquake in km\n",
    "arrs = model.get_travel_times(depth_earthquake, distance_in_degree=ref_dist, phase_list=('ttall', ))\n",
    "print(arrs)"
   ]
  },
  {
   "cell_type": "markdown",
   "metadata": {},
   "source": [
    "## Plot ray paths\n",
    "\n",
    "This bit of code will plot the ray paths for the phases for which travel times are included in your data plot above. "
   ]
  },
  {
   "cell_type": "code",
   "execution_count": null,
   "metadata": {},
   "outputs": [],
   "source": [
    "fig= plt.figure(figsize = (10,6))\n",
    "ax = fig.add_subplot(1, 1, 1, polar=True)\n",
    "# Phases to plot, e.g.  tt_phaces, center_phase, or a user-defined list [\"PKJKP\", \"SKKS\"]\n",
    "plot_phases = tt_phases\n",
    "\n",
    "widths = [1,1,1,1,1,1]\n",
    "# depth of earthquake in km\n",
    "depth_earthquake=edep\n",
    "# Distances to compute, currently set to plot a ray at the minimum and maximum distance included in the data set.\n",
    "dist_raypaths = [np.min(dists),  np.max(dists)]\n",
    "\n",
    "\n",
    "# computing ray paths\n",
    "for d, dist in enumerate(dist_raypaths):\n",
    "    if d == 0:\n",
    "        arrivals= model.get_ray_paths(depth_earthquake, dist, phase_list= plot_phases)\n",
    "    else:\n",
    "        arrivals= arrivals+model.get_ray_paths(depth_earthquake, dist, phase_list= plot_phases)\n",
    "\n",
    "\n",
    "# plotting\n",
    "\n",
    "arrivals.plot_rays(ax = ax, legend = True, plot_all=False)\n",
    "\n"
   ]
  },
  {
   "cell_type": "markdown",
   "metadata": {},
   "source": [
    "# -------------------------------------------------------------------------------\n",
    "# PLOT TOMOGRAPHIC MODEL AND PIERCE POINTS\n",
    "## Load depth slice\n",
    "Model provided to plot on the map is S362ANI+M (Moulik & Ekstrom, 2014).<br>\n",
    "Choose which depth to plot. This can be 25, 50, 75, 100, 125, 150, 200, 250, 300, 350, 400, 500, 600, 700, 800, 1000, 1250, 1500, 1750, 2000, 2250, 2500, 2750, 2800, or 2890 km. <br>\n",
    "Choose what to plot 'vsv', 'vsh', or 'voigt'. <br>\n",
    "Choose 'absolute' or 'relative'. \n"
   ]
  },
  {
   "cell_type": "code",
   "execution_count": null,
   "metadata": {},
   "outputs": [],
   "source": [
    "# Settings\n",
    "model3D = 'S362ANI+M' # No other model currently provided\n",
    "depth_mod = 2800 # in km\n",
    "to_plot = 'voigt'\n",
    "abs_or_rel = 'relative'\n",
    "\n",
    "# Load model\n",
    "mod = np.loadtxt(model3D+'/'+model3D+'.'+to_plot+'.'+str(int(depth_mod))+'.txt', \n",
    "           dtype={'names': ('lon', 'lat', 'vel'),'formats': ('f4', 'f4', 'f4')})  \n",
    "\n",
    "# Reshape for plotting\n",
    "len1= len(np.unique(mod['lon']))\n",
    "len2= len(np.unique(mod['lat']))\n",
    "lon = mod['lon'].reshape((len2,len1))\n",
    "lat = mod['lat'].reshape((len2,len1))\n",
    "vel = mod['vel'].reshape((len2,len1))\n",
    "print('model loaded')"
   ]
  },
  {
   "cell_type": "markdown",
   "metadata": {
    "collapsed": true
   },
   "source": [
    "## Compute pierce points\n",
    "For given phase(s) and a depth\n"
   ]
  },
  {
   "cell_type": "code",
   "execution_count": null,
   "metadata": {
    "scrolled": true
   },
   "outputs": [],
   "source": [
    "pp_depth = depth_mod # Depth to compute pierce point at\n",
    "pp_phases = center_phase # Phase(s) for piercepoints, can be set to center_phase\n",
    "\n",
    "\n",
    "downgoing =[]\n",
    "upgoing=[]\n",
    "for d in range(len(dists)):\n",
    "        # Compute ray paths\n",
    "        arrs = model.get_ray_paths_geo(source_depth_in_km=edep, \n",
    "                                          source_latitude_in_deg=elat,\n",
    "                                          source_longitude_in_deg=elon,\n",
    "                                          receiver_latitude_in_deg=slat[d],\n",
    "                                          receiver_longitude_in_deg=slon[d],\n",
    "                                          phase_list=pp_phases)\n",
    "        for A in arrs:\n",
    "            p=A.path\n",
    "            cut = np.argmax(p['depth'])\n",
    "            # Only select rays that go deep enough\n",
    "            if pp_depth < np.max(p['depth']):\n",
    "                # Interpolate downgoing pierce point\n",
    "                downgoing.append((np.interp(pp_depth, p['depth'][:cut],p['lon'][:cut] ), \n",
    "                             np.interp(pp_depth, p['depth'][:cut],p['lat'][:cut])))\n",
    "\n",
    "                # Interpolate upgoing pierce point           \n",
    "                upgoing.append((np.interp(pp_depth, p['depth'][cut:][::-1],p['lon'][cut:][::-1] ), \n",
    "                             np.interp(pp_depth, p['depth'][cut:][::-1],p['lat'][cut:][::-1])))\n",
    "\n",
    "downgoing=np.asarray(downgoing)\n",
    "upgoing=np.asarray(upgoing)\n",
    "print('done computing pierce points')"
   ]
  },
  {
   "cell_type": "markdown",
   "metadata": {},
   "source": [
    "## Plotting Map\n",
    "Uses the selection of data from above"
   ]
  },
  {
   "cell_type": "code",
   "execution_count": null,
   "metadata": {},
   "outputs": [],
   "source": [
    "\n",
    "plot_tomography = True # Choose to plot background seismic model\n",
    "plot_piercepoints = True # Choose to plot pierce points computed above\n",
    "\n",
    "# Plot map background\n",
    "fig = plt.figure(figsize=(10, 5))\n",
    "ax = fig.add_subplot(1, 1, 1, projection=ccrs.Orthographic(200, 25))\n",
    "ax.set_global()\n",
    "ax.coastlines()\n",
    "\n",
    "# Plot tomographic model\n",
    "if plot_tomography:\n",
    "    if abs_or_rel == 'relative':\n",
    "        ref = np.mean(vel.ravel())\n",
    "        rel = (vel-ref)/ref*100.\n",
    "        lim = np.ceil(np.max(np.abs(rel)))\n",
    "        levels = np.linspace(-lim,lim,33)\n",
    "        velmap = ax.contourf(lon,lat,rel,levels=levels,cmap=cm.seismic_r,linewidth=0, transform=ccrs.PlateCarree())\n",
    "    if abs_or_rel == 'absolute':\n",
    "        velmap =ax.contourf(lon,lat,vel,33, cmap=cm.viridis_r,linewidth=0, transform=ccrs.PlateCarree())    \n",
    "\n",
    "    plt.colorbar(velmap)\n",
    "    plt.title('model ' + model3D + ' sliced at ' +str(int(depth_mod)) + 'km', fontsize=18)\n",
    "\n",
    "#Plot pierce points\n",
    "if plot_piercepoints:\n",
    "    ax.scatter(downgoing[:,0], downgoing[:,1],s=35,c='y',marker='o',edgecolors = 'k',alpha=1, transform=ccrs.PlateCarree())\n",
    "    ax.scatter(upgoing[:,0], upgoing[:,1],s=35,c='c',marker='o',edgecolors = 'k',alpha=1, transform=ccrs.PlateCarree())\n",
    "\n",
    "#Plot event\n",
    "ax.scatter(elon,elat,s=600,marker='*',facecolors='y', edgecolors = 'k', alpha=1, transform=ccrs.PlateCarree())\n",
    "#Plot stations\n",
    "ax.scatter(slon,slat,s=35,c='m',marker='^',  edgecolors = 'k', alpha=1, transform=ccrs.PlateCarree())\n"
   ]
  },
  {
   "cell_type": "markdown",
   "metadata": {
    "scrolled": false
   },
   "source": [
    "# -------------------------------------------------------------------------------\n",
    "# Exercises \n",
    "\n",
    "Make and optimise a data plot for each of these exercises. \n",
    "Think about changing the component, distance range and frequency content of the data in your plot, and setting your plot to plotting with distance or azimuth. \n",
    "\n",
    "1. Find data evidence for seismic anisotropy in the mantle. \n",
    "\n",
    "2. Find evidence for the presence of a ULVZ beneath Hawaii. \n",
    "\n",
    "3. Find energy bouncing of the inner core. \n"
   ]
  }
 ],
 "metadata": {
  "kernelspec": {
   "display_name": "Python 3 (ipykernel)",
   "language": "python",
   "name": "python3"
  },
  "language_info": {
   "codemirror_mode": {
    "name": "ipython",
    "version": 3
   },
   "file_extension": ".py",
   "mimetype": "text/x-python",
   "name": "python",
   "nbconvert_exporter": "python",
   "pygments_lexer": "ipython3",
   "version": "3.8.12"
  }
 },
 "nbformat": 4,
 "nbformat_minor": 2
}
